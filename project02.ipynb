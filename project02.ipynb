{
 "cells": [
  {
   "cell_type": "markdown",
   "metadata": {
    "collapsed": false
   },
   "source": [
    "Prj02.\n",
    "Geometric asian option price Geometric asian call option with maturity $T$ and strike $K$ has its pay off as $$C_t = \\ (A(T) - K)^+.$$\n",
    "For an Asian option for geometric average type, The call price can be written by $$C_0 = \\mathbb E [e^{-rT} (A(T) - K)^+].$$\n",
    "where $A(T)$ is geometric average of the stock price at times $0 \\le t_1 &lt; t_2, \\ldots, &lt; t_n = T$, i.e.\n",
    "$$A(T) = (S(t_1)S(t_2) \\ldots S(t_n))^{1/n}.$$\n",
    "For the BS model the call and put price with maturity $T$ and $K$ will be known as $C_0$ and $P_0$ given as below: $$C_0 = S_0  \\Phi(d_1) - K e^{-rT} \\Phi(d_2),$$ and $$P_0 = K e^{-rT} \\Phi(- d_2) - S_0  \\Phi(- d_1),$$ where $d_1$ is $$d_1 = \\frac{(r + \\frac 1 2 \\sigma^2) T - \\ln \\frac{K}{S_0}}{\\sigma \\sqrt T},$$ and $d_2$ is $$d_2 = \\frac{(r - \\frac 1 2 \\sigma^2) T - \\ln \\frac{K}{S_0}}{\\sigma \\sqrt T},$$\n",
    "Under the above BS model, one can show that the distribution of $A(T)$ is again a lognormal under EMM in the form of $$A_T = S_0 \\exp \\{ (\\hat r - \\frac 1 2 \\hat \\sigma^2)T + \\hat \\sigma \\sqrt T \\hat Z\\}.$$ In the above, $\\hat Z$ is a standard normal random variable, $\\hat \\sigma$ is $$\\hat \\sigma = \\frac{\\sigma}{n} \\sqrt{\\frac{(n+1)(2n+1)}{6}}$$ and $\\hat r$ is $$\\hat r = \\frac 1 2 \\hat \\sigma^2 + \\frac{n+1}{2n}(r - \\frac 1 2 \\sigma^2).$$ Then, by fundamental asset pricing theory, we have GAC price by $$\\Pi_0^c = e^{(\\hat r - r)T} \\mathbb E [ e^{-\\hat r T} (A_T - K)^+].$$\n",
    "which is\n",
    "$$\\Pi_0^c = e^{(\\hat r - r)T}* BSM_c(S,T,K,\\hat r,\\hat \\sigma).$$"
   ]
  },
  {
   "cell_type": "code",
   "execution_count": 1,
   "metadata": {
    "collapsed": false
   },
   "outputs": [
   ],
   "source": [
    "import numpy as np\n",
    "import scipy.stats as ss\n",
    "import time \n",
    "import math"
   ]
  },
  {
   "cell_type": "code",
   "execution_count": 2,
   "metadata": {
    "collapsed": false
   },
   "outputs": [
   ],
   "source": [
    "def d_1(St, K, T, r, sigma, n):\n",
    "    ''' Calculates Black-Scholes-Merton European call option value.\n",
    "\n",
    "    Parameters\n",
    "    ==========\n",
    "    St : float\n",
    "        stock/index level at time t\n",
    "    K : float\n",
    "        strike price\n",
    "    T : float\n",
    "        date of maturity/time-to-maturity if t = 0; T > t\n",
    "    r : float\n",
    "        constant, risk-less short rate\n",
    "    σ : float\n",
    "        volatility\n",
    "    '''\n",
    "    sigma_hat = (sigma/n)*math.sqrt ((1/6)*(n+1)*(2*n+1))\n",
    "    r_hat = 0.5*np.square(sigma_hat) + ((n+1)/(2*n))*(r-(0.5* np.square(sigma)))\n",
    "    d1 = (np.log(St / K) + (r_hat + 0.5 * np.square(sigma_hat)* T)) / (sigma_hat * np.sqrt(T))\n",
    "    return d1"
   ]
  },
  {
   "cell_type": "code",
   "execution_count": 3,
   "metadata": {
    "collapsed": false
   },
   "outputs": [
   ],
   "source": [
    "def Asian_BSM_call_value(St, K, T, r, sigma, n):\n",
    "   \n",
    "    d1 = d_1(St, K, T, r, sigma, n)\n",
    "    sigma_hat = (sigma/n)*math.sqrt ((1/6)*(n+1)*(2*n+1))\n",
    "    r_hat = 0.5*np.square(sigma_hat) + ((n+1)/(2*n))*(r-(0.5* np.square(sigma)))\n",
    "    d2 = d1 - sigma_hat * math.sqrt(T)\n",
    "    Asian_call_value =math.exp((r_hat-r)*T)*(St * ss.norm.cdf(d1) - math.exp(-r_hat*T) * K * ss.norm.cdf(d2))\n",
    "    return Asian_call_value"
   ]
  },
  {
   "cell_type": "code",
   "execution_count": 4,
   "metadata": {
    "collapsed": false
   },
   "outputs": [
   ],
   "source": [
    "#For the parameters given ,we can find the GAC_price\n",
    "St = 100.0\n",
    "K = 110.0\n",
    "r = 0.0475\n",
    "sigma = 0.20\n",
    "T = 1\n",
    "n = 4"
   ]
  },
  {
   "cell_type": "code",
   "execution_count": 5,
   "metadata": {
    "collapsed": false
   },
   "outputs": [
    {
     "name": "stdout",
     "output_type": "stream",
     "text": [
      "('the price of Asian option for geometric average type is', 2.7329867250697175)\n"
     ]
    }
   ],
   "source": [
    "print('the price of Asian option for geometric average type is',Asian_BSM_call_value(St, K, T, r, sigma, n))"
   ]
  }
 ],
 "metadata": {
  "kernelspec": {
   "display_name": "SageMath (stable)",
   "name": "sagemath"
  },
  "language_info": {
   "codemirror_mode": {
    "name": "ipython",
    "version": 2
   },
   "file_extension": ".py",
   "mimetype": "text/x-python",
   "name": "python",
   "nbconvert_exporter": "python",
   "pygments_lexer": "ipython2",
   "version": "2.7.15"
  }
 },
 "nbformat": 4,
 "nbformat_minor": 0
}