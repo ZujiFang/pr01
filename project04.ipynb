{
 "cells": [
  {
   "cell_type": "markdown",
   "metadata": {
    "collapsed": false
   },
   "source": [
    "Prj04\\\n",
    "\\\n",
    "Consider the following data sets:\\\n",
    "Today: Sep 27, 2018\\\n",
    "Spot price: 290.68\\\n",
    "Maturity: Dec 31, 2018\\\n",
    "Strike: 288\\\n",
    "rate: 0.02 (from https://www.treasury.gov/resource-center/data-chart-center/interest-rates/Pages/TextView.aspx?data=yield)\\\n",
    "Market call price: 9.23\\\n",
    "\\\n",
    "Todo\\\n",
    "\\\n",
    "If the volatility is $30\\%$, what is the difference between BSM call price and market call price?\\\n",
    "Compute the implied volatility.\n",
    "\\\n",
    "\\\n",
    "For the BS model the call and put price with maturity $T$ and $K$ will be known as $C_0$ and $P_0$ given as below: $$C_0 = S_0  \\Phi(d_1) - K e^{-rT} \\Phi(d_2),$$ where $d_1$ is $$d_1 = \\frac{(r + \\frac 1 2 \\sigma^2) T + \\ln \\frac{K}{S_0}}{\\sigma \\sqrt T}$$ and $d_2$ is $$d_2 = \\frac{(r - \\frac 1 2 \\sigma^2) T + \\ln \\frac{K}{S_0}}{\\sigma \\sqrt T}$$"
   ]
  },
  {
   "cell_type": "code",
   "execution_count": 1,
   "metadata": {
    "collapsed": false
   },
   "outputs": [
   ],
   "source": [
    "import numpy as np\n",
    "import scipy.stats as ss\n",
    "import time \n",
    "import math"
   ]
  },
  {
   "cell_type": "code",
   "execution_count": 2,
   "metadata": {
    "collapsed": false
   },
   "outputs": [
   ],
   "source": [
    "def d_1(St, K, t, T, r, sigma):\n",
    "    ''' Calculates Black-Scholes-Merton European call option value.\n",
    "\n",
    "    Parameters\n",
    "    ==========\n",
    "    St : float\n",
    "        stock/index level at time t\n",
    "    K : float\n",
    "        strike price\n",
    "    t : float\n",
    "        valuation date\n",
    "    T : float\n",
    "        date of maturity/time-to-maturity if t = 0; T > t\n",
    "    r : float\n",
    "        constant, risk-less short rate\n",
    "    σ : float\n",
    "        volatility\n",
    "    '''\n",
    "    d1 = (math.log(St / K) + (r + 0.5 * sigma ** 2)* (T - t)) / (sigma * math.sqrt(T - t))\n",
    "    return d1"
   ]
  },
  {
   "cell_type": "code",
   "execution_count": 3,
   "metadata": {
    "collapsed": false
   },
   "outputs": [
   ],
   "source": [
    "def BSM_call_value(St, K, t, T, r, sigma):\n",
    "   \n",
    "    d1 = d_1(St, K, t, T, r, sigma)\n",
    "    d2 = d1 - sigma * math.sqrt(T-t)\n",
    "    BSM_call_price =St * ss.norm.cdf(d1) - math.exp(-r * (T-t) )* K * ss.norm.cdf(d2)\n",
    "    return BSM_call_price"
   ]
  },
  {
   "cell_type": "code",
   "execution_count": 4,
   "metadata": {
    "collapsed": false
   },
   "outputs": [
   ],
   "source": [
    "#For the parameters given \n",
    "\n",
    "S0 = 290.68\n",
    "K = 288\n",
    "r = 0.02\n",
    "sigma = 0.30\n",
    "Market_price = 9.23\n",
    "\n",
    "Spot = np.datetime64('2018-09-27')\n",
    "Maturity = np.datetime64('2018-12-31')\n",
    "npT =np.datetime64('2018-12-31')-np.datetime64('2018-09-27')"
   ]
  },
  {
   "cell_type": "code",
   "execution_count": 5,
   "metadata": {
    "collapsed": false
   },
   "outputs": [
    {
     "data": {
      "text/plain": [
       "numpy.timedelta64(95,'D')"
      ]
     },
     "execution_count": 5,
     "metadata": {
     },
     "output_type": "execute_result"
    }
   ],
   "source": [
    "npT"
   ]
  },
  {
   "cell_type": "code",
   "execution_count": 6,
   "metadata": {
    "collapsed": false
   },
   "outputs": [
   ],
   "source": [
    "T=95/365"
   ]
  },
  {
   "cell_type": "code",
   "execution_count": 7,
   "metadata": {
    "collapsed": false
   },
   "outputs": [
    {
     "name": "stdout",
     "output_type": "stream",
     "text": [
      "('the price of BSM call value is', 19.769937820552116)\n",
      "('the difference between BSM call price and market call price is', 10.539937820552115)\n"
     ]
    }
   ],
   "source": [
    "call_price = BSM_call_value(S0, K, 0, T, r, sigma)\n",
    "difference = call_price - Market_price\n",
    "print('the price of BSM call value is',call_price)\n",
    "print('the difference between BSM call price and market call price is',difference)"
   ]
  },
  {
   "cell_type": "code",
   "execution_count": 8,
   "metadata": {
    "collapsed": false
   },
   "outputs": [
    {
     "name": "stdout",
     "output_type": "stream",
     "text": [
      "Optimization terminated successfully.\n",
      "         Current function value: 0.000000\n",
      "         Iterations: 15\n",
      "         Function evaluations: 30\n",
      "Implied volatility is 0.118242\n"
     ]
    }
   ],
   "source": [
    "import numpy as np\n",
    "from scipy import optimize\n",
    "\n",
    "def IVolBsm(S0, K, T, r, P0):\n",
    "    \"\"\"\n",
    "    Inputs:\n",
    "        S0: spot price\n",
    "        K: strike\n",
    "        T: time to maturity in year\n",
    "        r: rate\n",
    "        P0: market price\n",
    "    Outputs:\n",
    "        Implied volatility\n",
    "    \"\"\"\n",
    "    InitVol = .3\n",
    "    error = lambda sigma: (BSM_call_value(S0, K, 0, T, r, sigma) - P0)**2\n",
    "    opt = optimize.fmin(error, InitVol);\n",
    "    return opt[0]\n",
    "\n",
    "print('Implied volatility is %f' % IVolBsm(S0, K, T, r, Market_price))"
   ]
  },
  {
   "cell_type": "code",
   "execution_count": 0,
   "metadata": {
    "collapsed": false
   },
   "outputs": [
   ],
   "source": [
   ]
  }
 ],
 "metadata": {
  "kernelspec": {
   "display_name": "SageMath (stable)",
   "name": "sagemath"
  },
  "language_info": {
   "codemirror_mode": {
    "name": "ipython",
    "version": 2
   },
   "file_extension": ".py",
   "mimetype": "text/x-python",
   "name": "python",
   "nbconvert_exporter": "python",
   "pygments_lexer": "ipython2",
   "version": "2.7.15"
  }
 },
 "nbformat": 4,
 "nbformat_minor": 0
}