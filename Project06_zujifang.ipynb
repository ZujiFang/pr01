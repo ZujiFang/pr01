{
 "cells": [
  {
   "cell_type": "markdown",
   "metadata": {
    "collapsed": false
   },
   "source": [
    "## Project 06\n",
    "\n",
    "Approximate the price $e^{-rT}\\mathbb E [F(S)]$, where\n",
    "\n",
    "- Asset follows $S = GBM(S_0, r, \\sigma)$;\n",
    "- Knock-in payoff is given as\n",
    "$$F(S) = 1000 \\cdot I(S_T > K) \\cdot I\\Big(\\min_{1\\le k \\le m} S(t_k) < H\\Big).$$\n",
    "\n",
    "__Parameters__\n",
    "\n",
    "- $r = 5\\%, \\sigma = 15\\%, S(0) = 95$\n",
    "- $T = 0.25, m = 50, H = 85, K = 96.$\n",
    "- $k = 1000$, $n = 1000$\n",
    "\n",
    "__Todo__\n",
    "\n",
    "- Repeat $k$ times of the ordinary MC, with $n$ simulation for each MC. Find mean, MSE, and confidence interval using $k$ many MC outputs.\n",
    "\n",
    "- Repeat the above procedure with importance sampling.\n",
    "\n",
    "- Explain your decision of new probability in your importance sampling. Is it optimal choice?"
   ]
  },
  {
   "cell_type": "markdown",
   "metadata": {
    "collapsed": false
   },
   "source": [
    "Question 1"
   ]
  },
  {
   "cell_type": "code",
   "execution_count": 1,
   "metadata": {
    "collapsed": false
   },
   "outputs": [
   ],
   "source": [
    "import numpy as np\n",
    "from scipy.stats import norm\n",
    "import scipy.stats as ss\n",
    "import matplotlib.pyplot as plt\n",
    "from pylab import plt\n",
    "plt.style.use('seaborn')\n",
    "%matplotlib inline"
   ]
  },
  {
   "cell_type": "code",
   "execution_count": 2,
   "metadata": {
    "collapsed": false
   },
   "outputs": [
   ],
   "source": [
    "# Let W = bm_1d(T, m)\n",
    "# W[i] : value at time (i+1)*dt\n",
    "def bm_1d(T, m):\n",
    "    dt = T/m\n",
    "    dW = np.sqrt(dt)*norm.rvs(size = m)\n",
    "    return dW.cumsum()\n",
    "\n",
    "def abm_1d(T, m, b, sigma, x0):\n",
    "    dt = T/m\n",
    "    dW = np.sqrt(dt)*norm.rvs(size = m)\n",
    "    dX = b*dt + sigma*dW\n",
    "    X = dX.cumsum()\n",
    "    return x0 + X\n",
    "\n",
    "def gbm_1d(T, m, b, sigma, x0):\n",
    "    L = abm_1d(T, m, b - 0.5*sigma**2, sigma, 0) #normalized log process\n",
    "    return x0*np.exp(L)\n"
   ]
  },
  {
   "cell_type": "code",
   "execution_count": 3,
   "metadata": {
    "collapsed": false
   },
   "outputs": [
   ],
   "source": [
    "r = .05\n",
    "sigma = 0.15\n",
    "s0 = 95\n",
    "T = 0.25\n",
    "H = 85\n",
    "K = 96\n",
    "k = 1000\n",
    "n = 1000\n",
    "m = 50\n",
    "dt = T/m"
   ]
  },
  {
   "cell_type": "code",
   "execution_count": 4,
   "metadata": {
    "collapsed": false
   },
   "outputs": [
    {
     "name": "stdout",
     "output_type": "stream",
     "text": [
      "MC computation for down_in_digital_call value: \n",
      "\n",
      "Mean is 0.5698323908849695\n",
      "MSE is 0.5501440373877335\n"
     ]
    }
   ],
   "source": [
    "val = np.zeros(k)\n",
    "payoff = np.zeros(n)\n",
    "for i in np.arange(k):\n",
    "    for j in np.arange(n):\n",
    "        S = gbm_1d(T, m, r, sigma, s0)\n",
    "        payoff[j] = 1000*float(S[-1]>K)*float(S.min()<H)\n",
    "    val[i] = payoff.mean()*np.exp(-r*T)\n",
    "\n",
    "print('MC computation for down_in_digital_call value: \\n')\n",
    "print('Mean is ' + str(val.mean()))    \n",
    "print('MSE is ' + str(val.var()))\n",
    "\n",
    "sample_mean = val.mean()\n",
    "sample_variance = val.var()"
   ]
  },
  {
   "cell_type": "code",
   "execution_count": 5,
   "metadata": {
    "collapsed": false
   },
   "outputs": [
    {
     "data": {
      "text/plain": [
       "[<matplotlib.lines.Line2D at 0x1a1caeec50>]"
      ]
     },
     "execution_count": 5,
     "metadata": {
     },
     "output_type": "execute_result"
    },
    {
     "data": {
      "image/png": "[encoded data removed]"
     },
     "execution_count": 5,
     "metadata": {
      "needs_background": "light"
     },
     "output_type": "execute_result"
    }
   ],
   "source": [
    "## the plot of the value of knock-in call option in each simulation\n",
    "plt.plot(np.linspace(0, k, k), val)"
   ]
  },
  {
   "cell_type": "code",
   "execution_count": 6,
   "metadata": {
    "collapsed": false
   },
   "outputs": [
    {
     "name": "stdout",
     "output_type": "stream",
     "text": [
      "The confidence interval of payoff with confidence level equal to 95% is:\n",
      " [0.5609603571717193, 0.5787044245982197]\n"
     ]
    }
   ],
   "source": [
    "## the confidence level is 1-a, get the confidence interval of payoff\n",
    "a = 0.05\n",
    "Int_l = sample_mean - sample_variance/ np.sqrt(k) * ss.norm.cdf(a/2)\n",
    "Int_r = sample_mean + sample_variance/ np.sqrt(k) * ss.norm.cdf(a/2)\n",
    "print(f\"The confidence interval of payoff with confidence level equal to 95% is:\\n [{Int_l}, {Int_r}]\")"
   ]
  },
  {
   "cell_type": "markdown",
   "metadata": {
    "collapsed": false
   },
   "source": [
    "Question 2"
   ]
  },
  {
   "cell_type": "code",
   "execution_count": 7,
   "metadata": {
    "collapsed": false
   },
   "outputs": [
    {
     "name": "stdout",
     "output_type": "stream",
     "text": [
      " The parameter b is equal to 0.11122563511022437\n",
      " The parameter c is equal to 0.010471299867295437\n"
     ]
    }
   ],
   "source": [
    "b = - np.log(H/s0)\n",
    "c = np.log(K/s0)\n",
    "print(f\" The parameter b is equal to {b}\")\n",
    "print(f\" The parameter c is equal to {c}\")"
   ]
  },
  {
   "cell_type": "code",
   "execution_count": 8,
   "metadata": {
    "collapsed": false
   },
   "outputs": [
   ],
   "source": [
    "r_1 = 0.06\n",
    "r_2 = 0.06\n",
    "theta_1 = - (r_1 + r)/sigma\n",
    "theta_2 =  (r_2 - r) /sigma\n",
    "\n",
    "h = int(m/2)"
   ]
  },
  {
   "cell_type": "code",
   "execution_count": 9,
   "metadata": {
    "collapsed": false
   },
   "outputs": [
    {
     "name": "stdout",
     "output_type": "stream",
     "text": [
      "MC computation for down_in_digital_call value: \n",
      "\n",
      "Mean is 0.5249732127375227\n",
      "MSE is 0.36877789449066734\n"
     ]
    }
   ],
   "source": [
    "r = .05\n",
    "sigma = 0.15\n",
    "s0 = 95\n",
    "T = 0.25\n",
    "H = 85\n",
    "K = 96\n",
    "k = 1000\n",
    "n = 1000\n",
    "m = 50\n",
    "dt = T/m\n",
    "val = np.zeros(k)\n",
    "payoff = np.zeros(n)\n",
    "for i in np.arange(k):\n",
    "    for j in np.arange(n):\n",
    "        dW = np.sqrt(dt)*norm.rvs(size = m)\n",
    "        W_t = dW.cumsum()      ## the path of Brownian Motion\n",
    "        dL1_t = (- r_1 - 0.5 * sigma**2) *dt + sigma * dW[0:h]   ## the scatter of Lt in the first stage\n",
    "        dL2_t = (r_2 - 0.5 *sigma**2)*dt + sigma* dW[h:(m+1)]       ## the scatter of Lt in the second stage\n",
    "        L = np.append(dL1_t , dL2_t).cumsum()     ## the path of Lt\n",
    "        gamma1 = theta_1 * dL1_t.cumsum()[-1] + theta_2 * dL2_t.cumsum()[-1] - (theta_1**2 + theta_2**2)/T/4\n",
    "        gamma = np.exp(gamma1)\n",
    "        payoff[j] = 1000*float(L[-1]>c)*float(L.min()<-b) * gamma \n",
    "    val[i] = payoff.mean()*np.exp(-r*T)\n",
    "    \n",
    "print('MC computation for down_in_digital_call value: \\n')\n",
    "print('Mean is ' + str(val.mean()))    \n",
    "print('MSE is ' + str(val.var()))\n",
    "\n",
    "sample_mean = val.mean()\n",
    "sample_variance = val.var()"
   ]
  },
  {
   "cell_type": "code",
   "execution_count": 10,
   "metadata": {
    "collapsed": false
   },
   "outputs": [
    {
     "data": {
      "text/plain": [
       "[<matplotlib.lines.Line2D at 0x1a1d50ab38>]"
      ]
     },
     "execution_count": 10,
     "metadata": {
     },
     "output_type": "execute_result"
    },
    {
     "data": {
      "image/png": "[encoded data removed]"
     },
     "execution_count": 10,
     "metadata": {
      "needs_background": "light"
     },
     "output_type": "execute_result"
    }
   ],
   "source": [
    "plt.plot(np.linspace(0, k, k), val)"
   ]
  },
  {
   "cell_type": "code",
   "execution_count": 11,
   "metadata": {
    "collapsed": false
   },
   "outputs": [
    {
     "name": "stdout",
     "output_type": "stream",
     "text": [
      "The confidence interval of payoff with confidence level equal to 95% is:\n",
      " [0.5190260249280206, 0.5309204005470248]\n"
     ]
    }
   ],
   "source": [
    "## the confidence interval\n",
    "a = 0.05\n",
    "Int_l = sample_mean - sample_variance/ np.sqrt(k) * ss.norm.cdf(a/2)\n",
    "Int_r = sample_mean + sample_variance/ np.sqrt(k) * ss.norm.cdf(a/2)\n",
    "print(f\"The confidence interval of payoff with confidence level equal to 95% is:\\n [{Int_l}, {Int_r}]\")"
   ]
  },
  {
   "cell_type": "markdown",
   "metadata": {
    "collapsed": false
   },
   "source": [
    "Question 3"
   ]
  },
  {
   "cell_type": "code",
   "execution_count": 12,
   "metadata": {
    "collapsed": false
   },
   "outputs": [
    {
     "name": "stdout",
     "output_type": "stream",
     "text": [
      "[0.49518502 0.5119269  0.52221545 0.52986411 0.56765648]\n",
      "[0.36998828 0.38018622 0.32946746 0.33276198 0.32219413]\n"
     ]
    }
   ],
   "source": [
    "r_list = np.linspace(0.03, 0.07, 5)\n",
    "l = 5\n",
    "val = np.zeros(k)\n",
    "payoff = np.zeros(n)\n",
    "sample_variance = np.zeros(l)\n",
    "sample_mean = np.zeros(l)\n",
    "\n",
    "for s in np.arange(l):\n",
    "    for i in np.arange(k):\n",
    "        for j in np.arange(n):\n",
    "            dW = np.sqrt(dt)*norm.rvs(size = m)\n",
    "            W_t = dW.cumsum()      ## the path of Brownian Motion\n",
    "            dL1_t = (- r_list[s] - 0.5 * sigma**2) *dt + sigma * dW[0:h]   ## the scatter of Lt in the first stage\n",
    "            dL2_t = (r_list[s] - 0.5 *sigma**2)*dt + sigma* dW[h:(m+1)]       ## the scatter of Lt in the second stage\n",
    "            L = np.append(dL1_t , dL2_t).cumsum()     ## the path of Lt\n",
    "            theta_1 = - (r_list[s] + r)/sigma\n",
    "            theta_2 =  (r_list[s] - r) /sigma\n",
    "            gamma1 = theta_1 * dL1_t.cumsum()[-1] + theta_2 * dL2_t.cumsum()[-1] - (theta_1**2 + theta_2**2)/T/4\n",
    "            gamma = np.exp(gamma1)\n",
    "            payoff[j] = 1000*float(L[-1]>c)*float(L.min()<-b) * gamma \n",
    "        val[i] = payoff.mean()*np.exp(-r*T)\n",
    "    sample_mean[s] = val.mean()\n",
    "    sample_variance[s] = val.var()\n",
    "\n",
    "print(sample_mean)\n",
    "print(sample_variance)"
   ]
  }
 ],
 "metadata": {
  "kernelspec": {
   "display_name": "Python 3 (Ubuntu Linux)",
   "language": "python",
   "name": "python3"
  },
  "language_info": {
   "codemirror_mode": {
    "name": "ipython",
    "version": 3
   },
   "file_extension": ".py",
   "mimetype": "text/x-python",
   "name": "python",
   "nbconvert_exporter": "python",
   "pygments_lexer": "ipython3",
   "version": "3.6.7"
  }
 },
 "nbformat": 4,
 "nbformat_minor": 0
}