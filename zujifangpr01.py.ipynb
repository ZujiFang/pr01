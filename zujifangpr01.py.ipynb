{
 "cells": [
  {
   "cell_type": "code",
   "execution_count": 1,
   "metadata": {
    "collapsed": false,
    "scrolled": true
   },
   "outputs": [
    {
     "name": "stdout",
     "output_type": "stream",
     "text": [
      "import math\r\n",
      "import sys\r\n",
      " \r\n",
      "def prime(n):\r\n",
      "    for i in range(3,int(math.sqrt(n)+1)):\r\n",
      "    #for i in range(2,n):\r\n",
      "        if n%i == 0:\r\n",
      "            return 0\r\n",
      "    return 1\r\n",
      " \r\n",
      "if __name__ == \"__main__\":\r\n",
      "    n = 1000000\r\n",
      "    a,b=1000,1002\r\n",
      "    count =0\r\n",
      "    for i in range(1000,n+1):\r\n",
      "        if prime(i)*prime(i+2):\r\n",
      "            a,b=i,i+2\r\n",
      "            #print(i,i+2)\r\n",
      "            count = count +1\r\n",
      "    print('The total number of twin primes between 1000 and 1000000 is %d' %count)\r\n",
      "    print('The biggest twin prime is %d %d' %(a,b))"
     ]
    }
   ],
   "source": [
    "%cat project01.py"
   ]
  },
  {
   "cell_type": "code",
   "execution_count": 2,
   "metadata": {
    "collapsed": false
   },
   "outputs": [
    {
     "name": "stdout",
     "output_type": "stream",
     "text": [
      "The total number of twin primes between 1000 and 1000000 is 8134\n",
      "The biggest twin prime is 999959 999961\n"
     ]
    }
   ],
   "source": [
    "%run project01.py"
   ]
  },
  {
   "cell_type": "code",
   "execution_count": 0,
   "metadata": {
    "collapsed": false
   },
   "outputs": [
   ],
   "source": [
   ]
  }
 ],
 "metadata": {
  "kernelspec": {
   "display_name": "SageMath (stable)",
   "name": "sagemath"
  },
  "language_info": {
   "codemirror_mode": {
    "name": "ipython",
    "version": 2
   },
   "file_extension": ".py",
   "mimetype": "text/x-python",
   "name": "python",
   "nbconvert_exporter": "python",
   "pygments_lexer": "ipython2",
   "version": "2.7.15"
  }
 },
 "nbformat": 4,
 "nbformat_minor": 0
}